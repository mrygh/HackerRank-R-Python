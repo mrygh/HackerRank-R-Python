{
 "cells": [
  {
   "cell_type": "code",
   "execution_count": 1,
   "metadata": {},
   "outputs": [],
   "source": [
    "\n",
    "def sockMerchant(n, ar):\n",
    "    #n=int(input())\n",
    "    #ar=input()\n",
    "    arr=ar.split(\" \")\n",
    "    a=[]\n",
    "    res={x:arr.count(x) for x in arr}\n",
    "    ress=list(res.values())\n",
    "    m=len(res.keys())\n",
    "    for i in range(m):\n",
    "        if 1 < ress[i]/2 < 2:\n",
    "            a.append(1)\n",
    "        else:\n",
    "            a.append(round(ress[i] / 2))\n",
    "    return(ress, a, sum(a))    "
   ]
  },
  {
   "cell_type": "code",
   "execution_count": 2,
   "metadata": {},
   "outputs": [],
   "source": [
    "n=10\n",
    "ar=\"10 20 20 10 10 30 50 10 20\""
   ]
  },
  {
   "cell_type": "code",
   "execution_count": 3,
   "metadata": {},
   "outputs": [
    {
     "data": {
      "text/plain": [
       "([4, 3, 1, 1], [2, 1, 0, 0], 3)"
      ]
     },
     "execution_count": 3,
     "metadata": {},
     "output_type": "execute_result"
    }
   ],
   "source": [
    "sockMerchant(n, ar)"
   ]
  }
 ],
 "metadata": {
  "kernelspec": {
   "display_name": "Python 3",
   "language": "python",
   "name": "python3"
  },
  "language_info": {
   "codemirror_mode": {
    "name": "ipython",
    "version": 3
   },
   "file_extension": ".py",
   "mimetype": "text/x-python",
   "name": "python",
   "nbconvert_exporter": "python",
   "pygments_lexer": "ipython3",
   "version": "3.7.4"
  }
 },
 "nbformat": 4,
 "nbformat_minor": 2
}
